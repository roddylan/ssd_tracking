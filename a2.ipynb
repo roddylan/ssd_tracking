{
 "cells": [
  {
   "cell_type": "code",
   "execution_count": null,
   "metadata": {},
   "outputs": [],
   "source": [
    "import numpy as np\n",
    "from matplotlib import pyplot as plt\n",
    "from matplotlib import patches\n",
    "import cv2, os, time\n",
    "import shutil # for folders\n",
    "\n",
    "FPS_LIMIT = 20\n",
    "\n",
    "# a) Capture Images\n",
    "def clear(cam: cv2.VideoCapture):\n",
    "    # release cam and clear windows\n",
    "    cam.release()\n",
    "    cv2.destroyAllWindows()\n",
    "\n",
    "def capture_video(cam: cv2.VideoCapture):\n",
    "    Im = []\n",
    "    # cam = cv2.VideoCapture(1)\n",
    "    cv2.namedWindow(\"capture\")\n",
    "    \n",
    "    # count = 0\n",
    "    # IMG_PATH = \"imgs\"\n",
    "    # G_IMG_PATH = \"g_imgs\"\n",
    "\n",
    "    prev = 0\n",
    "    recording = False\n",
    "    while True:\n",
    "        ret, img = cam.read()\n",
    "        \n",
    "        if not ret:\n",
    "            print(\"failed\")\n",
    "            break\n",
    "\n",
    "        img_gray = cv2.cvtColor(img, cv2.COLOR_BGR2GRAY)\n",
    "        cv2.imshow(\"capture\", img)\n",
    "\n",
    "        k = cv2.waitKey(1) # 1ms wait\n",
    "        \n",
    "        if k % 256 == 32: # space\n",
    "            recording = True\n",
    "        \n",
    "        if (time.time() - prev > 1./FPS_LIMIT and recording):\n",
    "            Im.append(img_gray)\n",
    "            # count += 1\n",
    "            # cv2.imwrite(f\"{G_IMG_PATH}/{count}.png\")\n",
    "            prev = time.time()\n",
    "\n",
    "        if k % 256 == 8 or k % 256 == 27:\n",
    "            # backspace or esc\n",
    "            break\n",
    "    \n",
    "    # cam.release()\n",
    "    clear(cam)\n",
    "    \n",
    "    return Im\n",
    "\n",
    "def load_video(path: str, type: str):\n",
    "    Im = []\n",
    "    \n",
    "    files = (os.listdir(path))\n",
    "    n = len(files)\n",
    "    for i in range(1,n+1):\n",
    "        Im.append(cv2.imread(f\"{path}/{i}.{type}\", cv2.IMREAD_GRAYSCALE))\n",
    "        # print(f\"{path}/{i}.{type}\")\n",
    "    # for file in files:\n",
    "    #     Im.append(cv2.imread(file, cv2.IMREAD_GRAYSCALE))\n",
    "    return Im\n",
    "\n",
    "def load_raw_output(path: str, type: str): # load color\n",
    "    Im = []\n",
    "    \n",
    "    files = (os.listdir(path))\n",
    "    n = len(files)\n",
    "    for i in range(1,n+1):\n",
    "        Im.append(cv2.imread(f\"{path}/{i}.{type}\", cv2.IMREAD_COLOR))\n",
    "    return Im\n",
    "\n",
    "def get_box(frame0):\n",
    "    return cv2.selectROI(\"ROI\", frame0, fromCenter=False)\n"
   ]
  },
  {
   "cell_type": "markdown",
   "metadata": {},
   "source": [
    "# Exercise 1"
   ]
  },
  {
   "cell_type": "code",
   "execution_count": 147,
   "metadata": {},
   "outputs": [],
   "source": [
    "# cam = cv2.VideoCapture(0, cv2.CAP_FIREWIRE)\n",
    "cam = cv2.VideoCapture(1)\n",
    "Im = capture_video(cam)\n",
    "# Im = load_video(\"armD32im1\", \"png\")"
   ]
  },
  {
   "cell_type": "code",
   "execution_count": null,
   "metadata": {},
   "outputs": [],
   "source": [
    "# Im = load_video(\"armD32im1\", \"png\")"
   ]
  },
  {
   "cell_type": "code",
   "execution_count": 148,
   "metadata": {},
   "outputs": [
    {
     "name": "stdout",
     "output_type": "stream",
     "text": [
      "Select a ROI and then press SPACE or ENTER button!\n",
      "Cancel the selection process by pressing c button!\n"
     ]
    }
   ],
   "source": [
    "xt, yt, w, h = get_box(frame0=Im[0])\n",
    "template = Im[0][yt:yt+h, xt:xt+w]"
   ]
  },
  {
   "cell_type": "code",
   "execution_count": 149,
   "metadata": {},
   "outputs": [],
   "source": [
    "dim = [Im[0].shape[1], Im[0].shape[0]]\n",
    "# dim = [template.shape[1], template.shape[0]]\n",
    "X = np.arange(0, dim[0], dtype=np.float32)\n",
    "Y = np.arange(0, dim[1], dtype=np.float32)\n",
    "Xq, Yq = np.meshgrid(X, Y)\n",
    "\n",
    "# template_mesh = cv2.remap(template, Xq, Yq, cv2.INTER_LINEAR)"
   ]
  },
  {
   "cell_type": "code",
   "execution_count": 151,
   "metadata": {},
   "outputs": [],
   "source": [
    "# r(p) = y - f(p) = temp - img(x,y + p)\n",
    "# r(p) = img(x,y + p) - temp\n",
    "# phi = r^T r\n",
    "\n",
    "\n",
    "def min_ssd(frame, template, p, x0, y0, width, height):\n",
    "    # max_x = frame.shape[1] - width\n",
    "    # max_y = frame.shape[0] - height\n",
    "    # x = max(min(int(x0 + p[0]), max_x), 0)\n",
    "    # y = max(min(int(y0 + p[1]), max_y), 0)\n",
    "\n",
    "    x = int(x0 + p[0])\n",
    "    y = int(y0 + p[1])\n",
    "    \n",
    "    # X = np.arange(0, template.shape[1], dtype=np.float32)\n",
    "    # Y = np.arange(0, template.shape[0], dtype=np.float32)\n",
    "    # Xt, Yt = np.meshgrid(X, Y)\n",
    "\n",
    "    u, v = np.inf, np.inf\n",
    "\n",
    "    bbox = frame[y:y+height, x:x+width]\n",
    "    # bbox = cv2.remap(bbox, Xt, Yt, cv2.INTER_LINEAR)\n",
    "    \n",
    "    # dIm = np.float32(bbox) - np.float32(template)\n",
    "    # r = np.float32(bbox) - np.float32(template)\n",
    "    max_it = 120\n",
    "    i=0\n",
    "    # while np.linalg.norm(r) >= 0.5:\n",
    "    # print(x,y)\n",
    "    while np.linalg.norm([u, v]) > 0.1 and i < max_it:\n",
    "        i+=1\n",
    "        r = np.float32(bbox) - np.float32(template)\n",
    "        # r[r<=25] = 0\n",
    "        r[abs(r)<=40] = 0\n",
    "        # r_v, r_u = np.gradient(np.float64(r))\n",
    "        # r_v = np.gradient(np.float64(r), axis = 0).flatten()\n",
    "        # r_u = np.gradient(np.float64(r), axis = 1).flatten()\n",
    "\n",
    "        r_v = np.gradient(np.float64(bbox), axis = 0).flatten()\n",
    "        r_u = np.gradient(np.float64(bbox), axis = 1).flatten()\n",
    "        \n",
    "        # r_v = np.gradient(np.float64(template), axis = 0).flatten()\n",
    "        # r_u = np.gradient(np.float64(template), axis = 1).flatten()\n",
    "        \n",
    "        # r_v = r_v/np.linalg.norm(r_v)\n",
    "        # r_u = r_u/np.linalg.norm(r_u)\n",
    "        # r_u = r_u/width\n",
    "        # r_v = r_u/height\n",
    "\n",
    "        J_r = np.column_stack((r_u, r_v))\n",
    "        \n",
    "        s,_,_,_ = np.linalg.lstsq(J_r, -r.flatten())\n",
    "        \n",
    "        u = s[0]\n",
    "        v = s[1]\n",
    "        p[0] += 0.5 * u\n",
    "        p[1] += 0.5 * v\n",
    "\n",
    "        # x = max(min(int(x0 + p[0]), max_x), 0)\n",
    "        # y = max(min(int(y0 + p[1]), max_y), 0)\n",
    "\n",
    "        x = int(x0 + p[0])\n",
    "        y = int(y0 + p[1])\n",
    "\n",
    "        bbox = frame[y:y+height, x:x+width]\n",
    "        # bbox = cv2.remap(bbox, Xq, Yq, cv2.INTER_LINEAR)\n",
    "\n",
    "        # print(np.mean(J_r))\n",
    "        # print(u,v)\n",
    "    # print(u,v)\n",
    "    return (x,y)\n"
   ]
  },
  {
   "cell_type": "code",
   "execution_count": 152,
   "metadata": {},
   "outputs": [
    {
     "name": "stderr",
     "output_type": "stream",
     "text": [
      "/var/folders/wf/drtr7_2178b7zk0qvrjym4gh0000gn/T/ipykernel_11274/2571069045.py:52: FutureWarning: `rcond` parameter will change to the default of machine precision times ``max(M, N)`` where M and N are the input matrix dimensions.\n",
      "To use the future default and silence this warning we advise to pass `rcond=None`, to keep using the old, explicitly pass `rcond=-1`.\n",
      "  s,_,_,_ = np.linalg.lstsq(J_r, -r.flatten())\n"
     ]
    }
   ],
   "source": [
    "p = [0, 0]\n",
    "tracks = [[xt, yt]]\n",
    "boxes = [template]\n",
    "\n",
    "count = 0\n",
    "for frame in Im[1:]:\n",
    "    frame_mapped = cv2.remap(frame, Xq, Yq, cv2.INTER_LINEAR)\n",
    "    # count+=1\n",
    "    # u,v = min_ssd\n",
    "    # boxes.append(min_ssd(frame, template, p, xt, yt, w, h))\n",
    "    tracks.append(min_ssd(frame_mapped, template, p, xt, yt, w, h))\n",
    "    # tracks.append(min_ssd(frame, template, p, xt, yt, w, h))\n",
    "    # print(p)\n",
    "    # print(count)"
   ]
  },
  {
   "cell_type": "code",
   "execution_count": 153,
   "metadata": {},
   "outputs": [
    {
     "data": {
      "text/plain": [
       "146"
      ]
     },
     "execution_count": 153,
     "metadata": {},
     "output_type": "execute_result"
    }
   ],
   "source": [
    "len(Im)"
   ]
  },
  {
   "cell_type": "code",
   "execution_count": 154,
   "metadata": {},
   "outputs": [
    {
     "name": "stdout",
     "output_type": "stream",
     "text": [
      "deleted\n",
      "folders created\n"
     ]
    }
   ],
   "source": [
    "# folder clean up\n",
    "try:\n",
    "    shutil.rmtree('output_imgs')\n",
    "    shutil.rmtree('video')\n",
    "    print(\"deleted\")\n",
    "except:\n",
    "    print(\"folder(s) dne\")\n",
    "\n",
    "os.mkdir(\"output_imgs\")\n",
    "os.mkdir(\"video\")\n",
    "print(\"folders created\")"
   ]
  },
  {
   "cell_type": "code",
   "execution_count": 145,
   "metadata": {},
   "outputs": [],
   "source": [
    "for i in range(len(tracks)):\n",
    "    fig = plt.figure()\n",
    "    fig.set_size_inches(1. * dim[0] / dim[1], 1, forward = False)\n",
    "    ax = plt.Axes(fig, [0., 0., 1., 1.])\n",
    "    ax.set_axis_off()\n",
    "    fig.add_axes(ax)\n",
    "    ax.imshow(Im[i], cmap=\"gray\")\n",
    "    rect = patches.Rectangle(tracks[i], w, h, linewidth=1, edgecolor='r', facecolor='none')\n",
    "    ax.add_patch(rect)\n",
    "\n",
    "    plt.savefig(f\"output_imgs/{i+1}.png\", dpi = dim[1])\n",
    "    plt.clf()\n",
    "    plt.close()\n",
    "\n",
    "cv2_fourcc = cv2.VideoWriter_fourcc(*'mp4v')\n",
    "out = load_raw_output(\"output_imgs\", \"png\")\n",
    "output_video = cv2.VideoWriter(\"video/ex2_output.mp4\", cv2_fourcc, FPS_LIMIT, (dim[0], dim[1]), True)\n",
    "\n",
    "for frame in out:\n",
    "    output_video.write(frame)\n",
    "\n",
    "cv2.destroyAllWindows()\n",
    "output_video.release()"
   ]
  },
  {
   "cell_type": "markdown",
   "metadata": {},
   "source": [
    "# Exercise 2"
   ]
  },
  {
   "cell_type": "code",
   "execution_count": null,
   "metadata": {},
   "outputs": [],
   "source": [
    "N_LVLS = 2\n",
    "SCALE_FACTOR = 1 # 2^SCALE_FACTOR\n",
    "TRUE_SCALE = 2**SCALE_FACTOR"
   ]
  },
  {
   "cell_type": "code",
   "execution_count": null,
   "metadata": {},
   "outputs": [],
   "source": [
    "# def pyramid(frame, template, p, x0, y0, width, height):\n",
    "def get_pyramid(frame, lvls = 3, sf = 1):\n",
    "    pyr = [frame] # bottom -> top\n",
    "    for i in range(lvls):\n",
    "        next_lvl = pyr[i]\n",
    "        for _ in range(sf):\n",
    "            next_lvl = cv2.pyrDown(next_lvl)\n",
    "\n",
    "        pyr.append(next_lvl)\n",
    "    \n",
    "    return pyr[::-1] # top -> bottom"
   ]
  },
  {
   "cell_type": "code",
   "execution_count": null,
   "metadata": {},
   "outputs": [],
   "source": [
    "def pyr_ssd(frame, template, p, x0, y0, width, height):\n",
    "    x = int(x0 + p[0])\n",
    "    y = int(y0 + p[1])\n",
    "\n",
    "    U = np.array([0, 0])\n",
    "    u, v = np.inf, np.inf\n",
    "\n",
    "    bbox = frame[y:y+height, x:x+width]\n",
    "    # bbox = cv2.remap(bbox, Xt, Yt, cv2.INTER_LINEAR)\n",
    "    \n",
    "    # dIm = np.float32(bbox) - np.float32(template)\n",
    "    # r = np.float32(bbox) - np.float32(template)\n",
    "    max_it = 80\n",
    "    i=0\n",
    "    # while np.linalg.norm(r) >= 0.5:\n",
    "    # print(x,y)\n",
    "    while np.linalg.norm([u, v]) > 0.1 and i < max_it:\n",
    "        i+=1\n",
    "        r = np.float32(bbox) - np.float32(template)\n",
    "        \n",
    "        r[abs(r)<=40] = 0\n",
    "        \n",
    "        r_v = np.gradient(np.float64(bbox), axis = 0).flatten()\n",
    "        r_u = np.gradient(np.float64(bbox), axis = 1).flatten()\n",
    "        \n",
    "        J_r = np.column_stack((r_u, r_v))\n",
    "        \n",
    "        s,_,_,_ = np.linalg.lstsq(J_r, -r.flatten())\n",
    "        \n",
    "        u = s[0]\n",
    "        v = s[1]\n",
    "        p[0] += 0.5 * u\n",
    "        p[1] += 0.5 * v\n",
    "        U[0] += 0.5 * u\n",
    "        U[1] += 0.5 * v\n",
    "        # x = max(min(int(x0 + p[0]), max_x), 0)\n",
    "        # y = max(min(int(y0 + p[1]), max_y), 0)\n",
    "\n",
    "        x = int(x0 + p[0])\n",
    "        y = int(y0 + p[1])\n",
    "\n",
    "        bbox = frame[y:y+height, x:x+width]\n",
    "        # bbox = cv2.remap(bbox, Xq, Yq, cv2.INTER_LINEAR)\n",
    "\n",
    "        # print(np.mean(J_r))\n",
    "        # print(u,v)\n",
    "    # print(u,v)\n",
    "    # return (x,y)\n",
    "    return U\n"
   ]
  },
  {
   "cell_type": "code",
   "execution_count": null,
   "metadata": {},
   "outputs": [],
   "source": [
    "p = np.array([0, 0])\n",
    "tracks = [[xt, yt]]\n",
    "\n",
    "temp_pyr = get_pyramid(template, lvls=N_LVLS, sf=SCALE_FACTOR)\n",
    "\n",
    "\n",
    "for frame in Im[1:]:\n",
    "    \n",
    "    frame_pyr = get_pyramid(frame, lvls=N_LVLS, sf=SCALE_FACTOR)\n",
    "    \n",
    "    U = np.array([0, 0])\n",
    "    for i in range(N_LVLS):\n",
    "        curr_template = temp_pyr[i]\n",
    "        curr_frame = frame_pyr[i]\n",
    "        # if i < N_LVLS:\n",
    "        P = (p // ((2**SCALE_FACTOR) ** (N_LVLS - i))) + U\n",
    "        x0 = xt // ((2**SCALE_FACTOR) ** (N_LVLS - i))\n",
    "        y0 = yt // ((2**SCALE_FACTOR) ** (N_LVLS - i))\n",
    "        # width = w // ((2**SCALE_FACTOR) * (N_LVLS - i))\n",
    "        # height = h // ((2**SCALE_FACTOR) * (N_LVLS - i))\n",
    "        # print(template.shape, w, h)\n",
    "        width = curr_template.shape[1]\n",
    "        height = curr_template.shape[0]\n",
    "        \n",
    "\n",
    "        U += pyr_ssd(curr_frame, curr_template, P, x0, y0, width, height)\n",
    "        \n",
    "        # else:\n",
    "        #     x0 = xt\n",
    "        #     y0 = yt\n",
    "        \n",
    "        # U = ssd(curr_frame, curr_template, U)\n",
    "        U = U * (2**SCALE_FACTOR)\n",
    "        print(U)\n",
    "    \n",
    "    p += U\n",
    "    # regular ssd\n",
    "    pyr_ssd(frame, template, p, xt, yt, w, h)\n",
    "    tracks.append([int(xt + p[0]), int(yt + p[1])])\n",
    "    # u,v lower = u,v * TRUE_SCALE"
   ]
  },
  {
   "cell_type": "code",
   "execution_count": null,
   "metadata": {},
   "outputs": [],
   "source": [
    "j = 0\n",
    "frm = Im[0]\n",
    "\n",
    "\n",
    "\n",
    "ps = get_pyramid(frm)\n",
    "tps = get_pyramid(template)\n",
    "x0 = xt // ((2**SCALE_FACTOR) ** (N_LVLS - j))\n",
    "y0 = yt // ((2**SCALE_FACTOR) ** (N_LVLS - j))\n",
    "width = tps[j].shape[1]\n",
    "height = tps[j].shape[0]\n",
    "\n",
    "# xs = np.arange(0, width, width / dim[0], dtype=np.float32)\n",
    "# ys = np.arange(0, height, height / dim[1], dtype=np.float32)\n",
    "\n",
    "# XSQ, YSQ = np.meshgrid(xs, ys)\n",
    "# sstss = cv2.remap(Im[0], XSQ, YSQ, cv2.INTER_LINEAR)\n",
    "# print(ps[j][y0:y0+height, x0:x0+width] == tps[0])\n",
    "\n",
    "# 90, 160\n",
    "print(ps[0][y0:y0+height, x0:x0+width].shape)\n",
    "# print(tps[0].shape)\n",
    "print(x0)"
   ]
  },
  {
   "cell_type": "code",
   "execution_count": null,
   "metadata": {},
   "outputs": [],
   "source": [
    "plt.imshow(ps[0], cmap='gray')\n",
    "# plt.imshow(ps[0][y0:y0+height, x0:x0+width], cmap='gray')"
   ]
  },
  {
   "cell_type": "code",
   "execution_count": null,
   "metadata": {},
   "outputs": [],
   "source": [
    "plt.imshow(tps[j], cmap='gray')"
   ]
  }
 ],
 "metadata": {
  "kernelspec": {
   "display_name": "base",
   "language": "python",
   "name": "python3"
  },
  "language_info": {
   "codemirror_mode": {
    "name": "ipython",
    "version": 3
   },
   "file_extension": ".py",
   "mimetype": "text/x-python",
   "name": "python",
   "nbconvert_exporter": "python",
   "pygments_lexer": "ipython3",
   "version": "3.10.13"
  }
 },
 "nbformat": 4,
 "nbformat_minor": 2
}
